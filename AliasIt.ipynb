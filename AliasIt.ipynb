{
 "cells": [
  {
   "cell_type": "code",
   "execution_count": 1,
   "metadata": {},
   "outputs": [],
   "source": [
    "import arcpy\n",
    "import csv\n",
    "\n",
    "# Path to your CSV file and feature class\n",
    "csv_file = r'J:\\GIS\\GIS_Projects\\CDBG_DR\\Projects_2024\\DR_Climate_Change_Index_24013\\Shp\\FieldMapping.csv'\n",
    "feature_class = r'J:\\GIS\\GIS_Projects\\CDBG_DR\\Projects_2024\\DR_Climate_Change_Index_24013\\Gdb\\ClimateChangeIndex.gdb\\usa'"
   ]
  },
  {
   "cell_type": "code",
   "execution_count": 2,
   "metadata": {},
   "outputs": [],
   "source": [
    "# Read the lookup table\n",
    "aliases = {}\n",
    "with open(csv_file, mode='r') as file:\n",
    "    reader = csv.DictReader(file)\n",
    "    for row in reader:\n",
    "        aliases[row['FieldName']] = row['Alias']"
   ]
  },
  {
   "cell_type": "code",
   "execution_count": 4,
   "metadata": {},
   "outputs": [
    {
     "name": "stdout",
     "output_type": "stream",
     "text": [
      "Field aliases updated successfully!\n"
     ]
    }
   ],
   "source": [
    "# Set field aliases\n",
    "fields = arcpy.ListFields(feature_class)\n",
    "for field in fields:\n",
    "    if field.name in aliases:\n",
    "        arcpy.AlterField_management(feature_class, field.name, new_field_alias=aliases[field.name])\n",
    "\n",
    "print(\"Field aliases updated successfully!\")"
   ]
  },
  {
   "cell_type": "code",
   "execution_count": null,
   "metadata": {},
   "outputs": [],
   "source": []
  }
 ],
 "metadata": {
  "kernelspec": {
   "display_name": "ArcGISPro",
   "language": "python",
   "name": "python3"
  },
  "language_info": {
   "file_extension": ".py",
   "mimetype": "text/x-python",
   "name": "python",
   "version": "3.11.10"
  }
 }
 "nbformat": 4,
 "nbformat_minor": 4
}
