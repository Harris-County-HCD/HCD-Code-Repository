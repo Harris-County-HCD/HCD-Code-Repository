{
 "cells": [
  {
   "cell_type": "code",
   "execution_count": 2,
   "metadata": {},
   "outputs": [],
   "source": [
    "# Import libraries\n",
    "import arcpy\n",
    "import matplotlib.pyplot as plt\n",
    "import numpy as np\n",
    "from arcpy import env\n",
    "import pandas as pd"
   ]
  },
  {
   "cell_type": "code",
   "execution_count": null,
   "metadata": {},
   "outputs": [],
   "source": [
    "# Identify variables in the project\n",
    "aprx = arcpy.mp.ArcGISProject(\"CURRENT\")\n",
    "m = aprx.listMaps(\"AFFH Automation Testing\")[0]\n",
    "layout = aprx.listLayouts(\"AFFH Automation Testing\")[0]\n",
    "\n",
    "#end the file path with two slashes \"\\\\\"\n",
    "file_path = \"J:\\GIS\\GIS_Projects\\CDBG_DR\\Projects_2025\\DR_25001_HCFCD_DR_MIT_AFFH\\Pdf\\\\\""
   ]
  },
  {
   "cell_type": "code",
   "execution_count": 4,
   "metadata": {},
   "outputs": [],
   "source": [
    "# Define layer names\n",
    "layers = {\n",
    "    \"centroid_layer\": \"Project Centroid\",\n",
    "    \"project_area_layer\": \"Project Area\",\n",
    "    \"block_group_layer\": \"Project Benefit Block Groups\",\n",
    "    \"benefit_area_layer\": \"Project Benefit Area\",\n",
    "    \"buffer_layer\": \"Project Centroid Buffer (1 Mile)\",\n",
    "    \"age_65_layer\": \"Percent Age 65 Plus\",\n",
    "    \"crime_layer\": \"Crime Index\",\n",
    "    \"disability_layer\": \"Percent of Households with Disability\",\n",
    "    \"minority_concentration_layer\": \"Percent Other than White Not Hispanic\",\n",
    "    \"poverty_layer\": \"Percent of Persons in Poverty\",\n",
    "    \"substandard_housing_layer\": \"Substandard Housing\",\n",
    "    \"large_household_layer\": \"Large Households\"\n",
    "}"
   ]
  },
  {
   "cell_type": "code",
   "execution_count": 5,
   "metadata": {},
   "outputs": [],
   "source": [
    "# Define data sources\n",
    "data_sources = {\n",
    "    \"age_65_data\": \"Data Sources: Harris County Flood Control, US Census Bureau ACS5 2015-2019, Harris County Housing & Community Development (HCHCD)\",\n",
    "    \"crime_data\": \"Data Sources: Harris County Flood Control, US Census Bureau ACS5 2015-2019, ESRI Total Crime Index (AGS) 2022, Harris County Housing & Community Development (HCHCD)\",\n",
    "    \"disability_data\": \"Data Sources: Harris County Flood Control, US Census Bureau ACS5 2015-2019, Harris County Housing & Community Development (HCHCD)\",\n",
    "    \"minority_concentration_data\": \"Data Sources: Harris County Flood Control, US Census Bureau ACS5 2015-2019, Harris County Housing & Community Development (HCHCD)\",\n",
    "    \"poverty_data\": \"Data Sources: Harris County Flood Control, US Census Bureau ACS5 2015-2019, Harris County Housing & Community Development (HCHCD)\",\n",
    "    \"substandard_housing_data\": \"Data Sources: Harris County Flood Control, US Census Bureau, HUD Comprehensive Housing Affordable Strategy (CHAS) 2016-2020, Harris County Housing & Community Development (HCHCD)\",\n",
    "    \"large_household_data\": \"Data Sources: Harris County Flood Control, US Census Bureau ACS5 2015-2019, HUD, Harris County Housing & Community Development (HCHCD)\"\n",
    "}"
   ]
  },
  {
   "cell_type": "code",
   "execution_count": null,
   "metadata": {},
   "outputs": [],
   "source": [
    "# Apply symbology to layers\n",
    "symbology_layers = {\n",
    "    \"project_area_layer\": \"Project Area Symbology\",\n",
    "    \"centroid_layer\": \"Benefit Area Centroids Symbology\",\n",
    "    \"block_group_layer\": \"Benefit Block Group Symbology\",\n",
    "    \"benefit_area_layer\": \"Benefit Area Symbology\",\n",
    "    \"buffer_layer\": \"Buffer Symbology\"\n",
    "}\n",
    "\n",
    "for layer_key, symbology_name in symbology_layers.items():\n",
    "    arcpy.management.ApplySymbologyFromLayer(\n",
    "        [layer for layer in m.listLayers() if layer.name == layers[layer_key]][0],\n",
    "        [layer for layer in m.listLayers() if layer.name == symbology_name][0]\n",
    "    )"
   ]
  },
  {
   "cell_type": "code",
   "execution_count": 6,
   "metadata": {},
   "outputs": [],
   "source": [
    "# Clear definition queries and labels for specific layers\n",
    "layer_names = [\n",
    "    layers[\"centroid_layer\"], layers[\"project_area_layer\"], \n",
    "    layers[\"block_group_layer\"], layers[\"benefit_area_layer\"],\n",
    "    layers[\"buffer_layer\"]\n",
    "]\n",
    "\n",
    "for lyr in m.listLayers():\n",
    "    if lyr.name in layer_names:\n",
    "        if lyr.supports(\"DEFINITIONQUERY\"):\n",
    "            lyr.definitionQuery = \"\"\n",
    "        if lyr.supports(\"SHOWLABELS\"):\n",
    "            lyr.showLabels = False"
   ]
  },
  {
   "cell_type": "code",
   "execution_count": 7,
   "metadata": {},
   "outputs": [
    {
     "name": "stdout",
     "output_type": "stream",
     "text": [
      "          ProjectID                                                                      Project_Description\n",
      "0   P518-14-00-E001                                                    Hahl North Stormwater Detention Basin\n",
      "1   P518-08-02-E001             Channel Conveyance Improvements and Stormwater Detention Basin on P118-08-00\n",
      "2   P118-00-00-E008                         Halls Bayou Channel Conveyance Improvements Downstream of Hopper\n",
      "3   N100-00-00-E004                                          Cloverleaf Area Drainage Improvements - Phase 2\n",
      "4   C147-00-00-E002                                         Channel Conveyance Improvements along C147-00-00\n",
      "5   C118-00-00-E001                                    Channel Conveyance Improvements along Saltwater Ditch\n",
      "6   B509-04-00-E002                                            Red Bluff Regional Stormwater Detention Basin\n",
      "7   U501-06-00-E002        South Mayde Creek Channel Conveyance Improvements and Stormwater Detention Basins\n",
      "8   G103-00-00-E003                                                    Barrett Station Drainage Improvements\n",
      "9   K100-00-00-R007                                              Upper Cypress Creek Floodplain Preservation\n",
      "10  P518-27-01-E001             Channel Conveyance Improvements and Stormwater Detention Basin on P118-27-00\n",
      "11  M500-10-00-E003                                           Boudreaux Stormwater Detention Basin - Phase 2\n",
      "12  U520-01-00-E005                                        Dinner Creek Stormwater Detention Basin - Phase 2\n",
      "13  P518-15-00-E001                                Stormwater Detention Basin on Halls Bayou near Hardy West\n",
      "14  P118-23-00-E002             Channel Conveyance Improvements and Stormwater Detention Basin on P118-23-00\n",
      "15  U501-07-00-E002         Stormwater Detention Basin on South Mayde Creek near the Grand Parkway - Phase 1\n",
      "16  M500-10-00-E002                                           Boudreaux Stormwater Detention Basin - Phase 1\n",
      "17  K500-23-00-E005                                                West TC Jester Stormwater Detention Basin\n",
      "18  G503-06-00-E003    Taylor Gully Channel Conveyance Improvements and Woodridge Stormwater Detention Basin\n",
      "19  K500-31-00-E001  Cypress Creek Channel Rehabilitation and Stormwater Detention Basin, Main Stem, Batch 5\n"
     ]
    }
   ],
   "source": [
    "# Access and filter project data\n",
    "centroid_layer = layers[\"benefit_area_layer\"]\n",
    "layer = [lyr for lyr in m.listLayers() if lyr.name == centroid_layer][0]\n",
    "\n",
    "data = []\n",
    "with arcpy.da.SearchCursor(layer, [\"ProjectID\", \"Project_Description\"]) as cursor:\n",
    "    for row in cursor:\n",
    "        data.append(row)\n",
    "\n",
    "df = pd.DataFrame(data, columns=[\"ProjectID\", \"Project_Description\"])\n",
    "unique_projects_df = df.drop_duplicates(subset=\"ProjectID\")\n",
    "\n",
    "pd.set_option('display.max_colwidth', None)\n",
    "print(unique_projects_df)"
   ]
  },
  {
   "cell_type": "code",
   "execution_count": 8,
   "metadata": {},
   "outputs": [],
   "source": [
    "#Select your project ID from the list above\n",
    "project_id = \"U501-07-00-E002\""
   ]
  },
  {
   "cell_type": "code",
   "execution_count": 9,
   "metadata": {},
   "outputs": [],
   "source": [
    "# Apply a definition query to layers\n",
    "query = f\"ProjectID = '{project_id}'\"\n",
    "for layer_name in layer_names:\n",
    "    layer = m.listLayers(layer_name)[0]\n",
    "    layer.definitionQuery = query"
   ]
  },
  {
   "cell_type": "code",
   "execution_count": 14,
   "metadata": {},
   "outputs": [],
   "source": [
    "# Get and set the map frame extent\n",
    "extent_layer = m.listLayers(layers[\"block_group_layer\"])[0]\n",
    "mf = layout.listElements(\"MAPFRAME_ELEMENT\", \"Main Map\")[0]\n",
    "extent = mf.getLayerExtent(extent_layer, False, True)\n",
    "buffer_factor = .05\n",
    "buffered_extent = arcpy.Extent(\n",
    "    extent.XMin - extent.width * buffer_factor,\n",
    "    extent.YMin - extent.height * buffer_factor,\n",
    "    extent.XMax + extent.width * buffer_factor,\n",
    "    extent.YMax + extent.height * buffer_factor\n",
    ")\n",
    "mf.camera.setExtent(buffered_extent)"
   ]
  },
  {
   "cell_type": "code",
   "execution_count": 15,
   "metadata": {},
   "outputs": [],
   "source": [
    "# Function to update text elements\n",
    "def update_text_element(title, data_source, layer_visibility):\n",
    "    text_element = layout.listElements(\"TEXT_ELEMENT\", \"title\")[0]\n",
    "    text_element.text = title\n",
    "    text_element = layout.listElements(\"TEXT_ELEMENT\", \"Data Source\")[0]\n",
    "    text_element.text = data_source\n",
    "    for layer_name, visible in layer_visibility.items():\n",
    "        layer = [lyr for lyr in m.listLayers() if lyr.name == layer_name]\n",
    "        if layer:\n",
    "            layer[0].visible = visible"
   ]
  },
  {
   "cell_type": "markdown",
   "metadata": {},
   "source": [
    "# Age 65 and Older Map"
   ]
  },
  {
   "cell_type": "code",
   "execution_count": 25,
   "metadata": {},
   "outputs": [
    {
     "data": {
      "text/plain": [
       "'J:\\\\GIS\\\\GIS_Projects\\\\CDBG_DR\\\\Projects_2024\\\\DR_AFFH_MIT_Phase2_24007\\\\Pdf\\\\Stormwater Detention Basin on South Mayde Creek near the Grand Parkway - Phase 1 - Age 65 and Older.pdf'"
      ]
     },
     "execution_count": 25,
     "metadata": {},
     "output_type": "execute_result"
    }
   ],
   "source": [
    "# Get the project description\n",
    "with arcpy.da.SearchCursor(centroid_layer, [\"Project_Description\"]) as cursor:\n",
    "    project_description = next(cursor)[0]  # Get the project name from the \"Project_Description\" field\n",
    "\n",
    "# Create the text string\n",
    "text_string = f\"{project_description} - Age 65 and Older\"\n",
    "\n",
    "# Update the title text element\n",
    "layout.listElements(\"TEXT_ELEMENT\", \"title\")[0].text = text_string\n",
    "\n",
    "# Example: Update for the Age 65 and Older Map\n",
    "text_string = f\"{project_description} - Age 65 and Older\"\n",
    "update_text_element(text_string, data_sources[\"age_65_data\"], {\n",
    "    layers[\"age_65_layer\"]: True,\n",
    "    layers[\"crime_layer\"]: False,\n",
    "    layers[\"disability_layer\"]: False,\n",
    "    layers[\"minority_concentration_layer\"]: False,\n",
    "    layers[\"poverty_layer\"]: False,\n",
    "    layers[\"substandard_housing_layer\"]: False,\n",
    "    layers[\"large_household_layer\"]: False\n",
    "})\n",
    "# Export the layout to PDF\n",
    "layout.exportToPDF(f\"{file_path}{text_string}.pdf\", resolution=300, image_quality=\"BEST\", embed_fonts=True, image_compression=\"ADAPTIVE\")"
   ]
  },
  {
   "cell_type": "markdown",
   "metadata": {},
   "source": [
    "# Crime"
   ]
  },
  {
   "cell_type": "code",
   "execution_count": 26,
   "metadata": {},
   "outputs": [
    {
     "data": {
      "text/plain": [
       "'J:\\\\GIS\\\\GIS_Projects\\\\CDBG_DR\\\\Projects_2024\\\\DR_AFFH_MIT_Phase2_24007\\\\Pdf\\\\Stormwater Detention Basin on South Mayde Creek near the Grand Parkway - Phase 1 - Crime.pdf'"
      ]
     },
     "execution_count": 26,
     "metadata": {},
     "output_type": "execute_result"
    }
   ],
   "source": [
    "# Get the project description\n",
    "with arcpy.da.SearchCursor(centroid_layer, [\"Project_Description\"]) as cursor:\n",
    "    project_description = next(cursor)[0]  # Get the project name from the \"Project_Description\" field\n",
    "\n",
    "# Create the text string\n",
    "text_string = f\"{project_description} - Crime\"\n",
    "\n",
    "# Update the title text element\n",
    "layout.listElements(\"TEXT_ELEMENT\", \"title\")[0].text = text_string\n",
    "\n",
    "# Crime Map\n",
    "text_string = f\"{project_description} - Crime\"\n",
    "update_text_element(text_string, data_sources[\"crime_data\"], {\n",
    "    layers[\"age_65_layer\"]: False,\n",
    "    layers[\"crime_layer\"]: True,\n",
    "    layers[\"disability_layer\"]: False,\n",
    "    layers[\"minority_concentration_layer\"]: False,\n",
    "    layers[\"poverty_layer\"]: False,\n",
    "    layers[\"substandard_housing_layer\"]: False,\n",
    "    layers[\"large_household_layer\"]: False\n",
    "})\n",
    "layout.exportToPDF(f\"{file_path}{text_string}.pdf\", resolution=300, image_quality=\"BEST\", embed_fonts=True, image_compression=\"ADAPTIVE\")"
   ]
  },
  {
   "cell_type": "markdown",
   "metadata": {},
   "source": [
    "# Household Disability"
   ]
  },
  {
   "cell_type": "code",
   "execution_count": 27,
   "metadata": {},
   "outputs": [
    {
     "data": {
      "text/plain": [
       "'J:\\\\GIS\\\\GIS_Projects\\\\CDBG_DR\\\\Projects_2024\\\\DR_AFFH_MIT_Phase2_24007\\\\Pdf\\\\Stormwater Detention Basin on South Mayde Creek near the Grand Parkway - Phase 1 - Household Disability.pdf'"
      ]
     },
     "execution_count": 27,
     "metadata": {},
     "output_type": "execute_result"
    }
   ],
   "source": [
    "# Get the project description\n",
    "with arcpy.da.SearchCursor(centroid_layer, [\"Project_Description\"]) as cursor:\n",
    "    project_description = next(cursor)[0]  # Get the project name from the \"Project_Description\" field\n",
    "\n",
    "# Create the text string\n",
    "text_string = f\"{project_description} - Household Disability\"\n",
    "\n",
    "# Update the title text element\n",
    "layout.listElements(\"TEXT_ELEMENT\", \"title\")[0].text = text_string\n",
    "\n",
    "# Household Disability Map\n",
    "text_string = f\"{project_description} - Household Disability\"\n",
    "update_text_element(text_string, data_sources[\"disability_data\"], {\n",
    "    layers[\"age_65_layer\"]: False,\n",
    "    layers[\"crime_layer\"]: False,\n",
    "    layers[\"disability_layer\"]: True,\n",
    "    layers[\"minority_concentration_layer\"]: False,\n",
    "    layers[\"poverty_layer\"]: False,\n",
    "    layers[\"substandard_housing_layer\"]: False,\n",
    "    layers[\"large_household_layer\"]: False\n",
    "})\n",
    "layout.exportToPDF(f\"{file_path}{text_string}.pdf\", resolution=300, image_quality=\"BEST\", embed_fonts=True, image_compression=\"ADAPTIVE\")"
   ]
  },
  {
   "cell_type": "markdown",
   "metadata": {},
   "source": [
    "# Non-White or Hispanic Population Concentration"
   ]
  },
  {
   "cell_type": "code",
   "execution_count": 28,
   "metadata": {},
   "outputs": [
    {
     "data": {
      "text/plain": [
       "'J:\\\\GIS\\\\GIS_Projects\\\\CDBG_DR\\\\Projects_2024\\\\DR_AFFH_MIT_Phase2_24007\\\\Pdf\\\\Stormwater Detention Basin on South Mayde Creek near the Grand Parkway - Phase 1 - Minority Concentration.pdf'"
      ]
     },
     "execution_count": 28,
     "metadata": {},
     "output_type": "execute_result"
    }
   ],
   "source": [
    "# Get the project description\n",
    "with arcpy.da.SearchCursor(centroid_layer, [\"Project_Description\"]) as cursor:\n",
    "    project_description = next(cursor)[0]  # Get the project name from the \"Project_Description\" field\n",
    "\n",
    "# Create the text string\n",
    "text_string = f\"{project_description} - Minority Concentration\"\n",
    "\n",
    "# Update the title text element\n",
    "layout.listElements(\"TEXT_ELEMENT\", \"title\")[0].text = text_string\n",
    "\n",
    "# Export map with minority concentration\n",
    "text_string = f\"{project_description} - Minority Concentration\"\n",
    "update_text_element(text_string, data_sources[\"minority_concentration_data\"], {\n",
    "    layers[\"age_65_layer\"]: False,\n",
    "    layers[\"crime_layer\"]: False,\n",
    "    layers[\"disability_layer\"]: False,\n",
    "    layers[\"minority_concentration_layer\"]: True,\n",
    "    layers[\"poverty_layer\"]: False,\n",
    "    layers[\"substandard_housing_layer\"]: False,\n",
    "    layers[\"large_household_layer\"]: False\n",
    "})\n",
    "layout.exportToPDF(f\"{file_path}{text_string}.pdf\", resolution=300, image_quality=\"BEST\", embed_fonts=True, image_compression=\"ADAPTIVE\")"
   ]
  },
  {
   "cell_type": "markdown",
   "metadata": {},
   "source": [
    "# Percent in Poverty"
   ]
  },
  {
   "cell_type": "code",
   "execution_count": 29,
   "metadata": {},
   "outputs": [
    {
     "data": {
      "text/plain": [
       "'J:\\\\GIS\\\\GIS_Projects\\\\CDBG_DR\\\\Projects_2024\\\\DR_AFFH_MIT_Phase2_24007\\\\Pdf\\\\Stormwater Detention Basin on South Mayde Creek near the Grand Parkway - Phase 1 - Poverty.pdf'"
      ]
     },
     "execution_count": 29,
     "metadata": {},
     "output_type": "execute_result"
    }
   ],
   "source": [
    "# Get the project description\n",
    "with arcpy.da.SearchCursor(centroid_layer, [\"Project_Description\"]) as cursor:\n",
    "    project_description = next(cursor)[0]  # Get the project name from the \"Project_Description\" field\n",
    "\n",
    "# Create the text string\n",
    "text_string = f\"{project_description} - Poverty\"\n",
    "\n",
    "# Update the title text element\n",
    "layout.listElements(\"TEXT_ELEMENT\", \"title\")[0].text = text_string\n",
    "\n",
    "# Export map with Poverty layer\n",
    "text_string = f\"{project_description} - Poverty\"\n",
    "update_text_element(text_string, data_sources[\"poverty_data\"], {\n",
    "    layers[\"age_65_layer\"]: False,\n",
    "    layers[\"crime_layer\"]: False,\n",
    "    layers[\"disability_layer\"]: False,\n",
    "    layers[\"minority_concentration_layer\"]: False,\n",
    "    layers[\"poverty_layer\"]: True,\n",
    "    layers[\"substandard_housing_layer\"]: False,\n",
    "    layers[\"large_household_layer\"]: False\n",
    "})\n",
    "layout.exportToPDF(f\"{file_path}{text_string}.pdf\", resolution=300, image_quality=\"BEST\", embed_fonts=True, image_compression=\"ADAPTIVE\")"
   ]
  },
  {
   "cell_type": "markdown",
   "metadata": {},
   "source": [
    "# Substandard Housing"
   ]
  },
  {
   "cell_type": "code",
   "execution_count": 30,
   "metadata": {},
   "outputs": [
    {
     "data": {
      "text/plain": [
       "'J:\\\\GIS\\\\GIS_Projects\\\\CDBG_DR\\\\Projects_2024\\\\DR_AFFH_MIT_Phase2_24007\\\\Pdf\\\\Stormwater Detention Basin on South Mayde Creek near the Grand Parkway - Phase 1 - Substandard Housing.pdf'"
      ]
     },
     "execution_count": 30,
     "metadata": {},
     "output_type": "execute_result"
    }
   ],
   "source": [
    "# Get the project description for title update\n",
    "with arcpy.da.SearchCursor(centroid_layer, [\"Project_Description\"]) as cursor:\n",
    "    project_description = next(cursor)[0]  # Get the project name from the \"Project_Description\" field\n",
    "\n",
    "# Create the text string\n",
    "text_string = f\"{project_description} - Substandard Housing\"\n",
    "\n",
    "# Update the title text element\n",
    "layout.listElements(\"TEXT_ELEMENT\", \"title\")[0].text = text_string\n",
    "\n",
    "# Export map with Substandard Housing layer\n",
    "text_string = f\"{project_description} - Substandard Housing\"\n",
    "update_text_element(text_string, data_sources[\"substandard_housing_data\"], {\n",
    "    layers[\"age_65_layer\"]: False,\n",
    "    layers[\"crime_layer\"]: False,\n",
    "    layers[\"disability_layer\"]: False,\n",
    "    layers[\"minority_concentration_layer\"]: False,\n",
    "    layers[\"poverty_layer\"]: False,\n",
    "    layers[\"substandard_housing_layer\"]: True,\n",
    "    layers[\"large_household_layer\"]: False\n",
    "})\n",
    "layout.exportToPDF(f\"{file_path}{text_string}.pdf\", resolution=300, image_quality=\"BEST\", embed_fonts=True, image_compression=\"ADAPTIVE\")"
   ]
  },
  {
   "cell_type": "markdown",
   "metadata": {},
   "source": [
    "# Large Households"
   ]
  },
  {
   "cell_type": "code",
   "execution_count": 31,
   "metadata": {},
   "outputs": [
    {
     "data": {
      "text/plain": [
       "'J:\\\\GIS\\\\GIS_Projects\\\\CDBG_DR\\\\Projects_2024\\\\DR_AFFH_MIT_Phase2_24007\\\\Pdf\\\\Stormwater Detention Basin on South Mayde Creek near the Grand Parkway - Phase 1 - Large Households.pdf'"
      ]
     },
     "execution_count": 31,
     "metadata": {},
     "output_type": "execute_result"
    }
   ],
   "source": [
    "# Get the project description\n",
    "with arcpy.da.SearchCursor(centroid_layer, [\"Project_Description\"]) as cursor:\n",
    "    project_description = next(cursor)[0]  # Get the project name from the \"Project_Description\" field\n",
    "\n",
    "# Create the text string\n",
    "text_string = f\"{project_description} - Large Households\"\n",
    "\n",
    "# Update the title text element\n",
    "layout.listElements(\"TEXT_ELEMENT\", \"title\")[0].text = text_string\n",
    "\n",
    "# Export map with Large Households layer\n",
    "text_string = f\"{project_description} - Large Households\"\n",
    "update_text_element(text_string, data_sources[\"large_household_data\"], {\n",
    "    layers[\"age_65_layer\"]: False,\n",
    "    layers[\"crime_layer\"]: False,\n",
    "    layers[\"disability_layer\"]: False,\n",
    "    layers[\"minority_concentration_layer\"]: False,\n",
    "    layers[\"poverty_layer\"]: False,\n",
    "    layers[\"substandard_housing_layer\"]: False,\n",
    "    layers[\"large_household_layer\"]: True\n",
    "})\n",
    "layout.exportToPDF(f\"{file_path}{text_string}.pdf\", resolution=300, image_quality=\"BEST\", embed_fonts=True, image_compression=\"ADAPTIVE\")"
   ]
  }
 ],
 "metadata": {
  "kernelspec": {
   "display_name": "ArcGISPro",
   "language": "Python",
   "name": "python3"
  },
  "language_info": {
   "file_extension": ".py",
   "name": "python",
   "version": "3"
  }
 },
 "nbformat": 4,
 "nbformat_minor": 2
}
